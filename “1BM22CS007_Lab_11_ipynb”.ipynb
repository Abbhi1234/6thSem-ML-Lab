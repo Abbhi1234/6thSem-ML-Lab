{
  "nbformat": 4,
  "nbformat_minor": 0,
  "metadata": {
    "colab": {
      "provenance": [],
      "authorship_tag": "ABX9TyNW8u7nzELfCPrHxtNB+XEf",
      "include_colab_link": true
    },
    "kernelspec": {
      "name": "python3",
      "display_name": "Python 3"
    },
    "language_info": {
      "name": "python"
    }
  },
  "cells": [
    {
      "cell_type": "markdown",
      "metadata": {
        "id": "view-in-github",
        "colab_type": "text"
      },
      "source": [
        "<a href=\"https://colab.research.google.com/github/Abbhi1234/6thSem-ML-Lab/blob/main/%E2%80%9C1BM22CS007_Lab_11_ipynb%E2%80%9D.ipynb\" target=\"_parent\"><img src=\"https://colab.research.google.com/assets/colab-badge.svg\" alt=\"Open In Colab\"/></a>"
      ]
    },
    {
      "cell_type": "code",
      "execution_count": null,
      "metadata": {
        "id": "4eKDL-Ii67g4"
      },
      "outputs": [],
      "source": [
        "import pandas as pd\n",
        "import numpy as np\n",
        "from sklearn.preprocessing import StandardScaler, LabelEncoder\n",
        "from sklearn.model_selection import train_test_split\n",
        "from sklearn.linear_model import LogisticRegression\n",
        "from sklearn.ensemble import RandomForestClassifier\n",
        "from sklearn.svm import SVC\n",
        "from sklearn.metrics import accuracy_score\n",
        "from sklearn.decomposition import PCA\n",
        "from scipy import stats\n",
        "df = pd.read_csv('heart (2).csv')\n",
        "z_scores = np.abs(stats.zscore(df.select_dtypes(include=[np.number])))\n",
        "df_no_outliers = df[(z_scores < 3).all(axis=1)]\n",
        "df_cleaned = df_no_outliers.copy()\n",
        "for col in df_cleaned.select_dtypes(include='object').columns:\n",
        "df_cleaned[col] = LabelEncoder().fit_transform(df_cleaned[col])\n",
        "X = df_cleaned.drop('HeartDisease', axis=1)\n",
        "y = df_cleaned['HeartDisease']\n",
        "scaler = StandardScaler()\n",
        "X_scaled = scaler.fit_transform(X)\n",
        "X_train, X_test, y_train, y_test = train_test_split(X_scaled, y, test_size=0.2, random_state=42,\n",
        "stratify=y)\n",
        "models = {\n",
        "\"Logistic Regression\": LogisticRegression(max_iter=1000),\n",
        "\"Random Forest\": RandomForestClassifier(),\n",
        "\"SVM\": SVC()\n",
        "}\n",
        "print(\"Accuracy without PCA:\")\n",
        "for name, model in models.items():\n",
        "model.fit(X_train, y_train)\n",
        "y_pred = model.predict(X_test)\n",
        "acc = accuracy_score(y_test, y_pred)\n",
        "print(f\"{name}: {acc:.4f}\")\n",
        "pca = PCA(n_components=5)\n",
        "X_pca = pca.fit_transform(X_scaled)\n",
        "41\n",
        "X_train_pca, X_test_pca, y_train, y_test = train_test_split(X_pca, y, test_size=0.2, random_state=42,\n",
        "stratify=y)\n",
        "print(\"\\nAccuracy with PCA:\")\n",
        "for name, model in models.items():\n",
        "model.fit(X_train_pca, y_train)\n",
        "y_pred = model.predict(X_test_pca)\n",
        "acc = accuracy_score(y_test, y_pred)\n",
        "print(f\"{name}: {acc:.4f}\")"
      ]
    }
  ]
}